{
  "nbformat": 4,
  "nbformat_minor": 0,
  "metadata": {
    "colab": {
      "provenance": [],
      "authorship_tag": "ABX9TyOBOYLX/dhgARiD6paQ5euK",
      "include_colab_link": true
    },
    "kernelspec": {
      "name": "python3",
      "display_name": "Python 3"
    },
    "language_info": {
      "name": "python"
    }
  },
  "cells": [
    {
      "cell_type": "markdown",
      "metadata": {
        "id": "view-in-github",
        "colab_type": "text"
      },
      "source": [
        "<a href=\"https://colab.research.google.com/github/raunakyadav92/Flappy-Bird-Clone/blob/main/Flappy_Bird_Clone.ipynb\" target=\"_parent\"><img src=\"https://colab.research.google.com/assets/colab-badge.svg\" alt=\"Open In Colab\"/></a>"
      ]
    },
    {
      "cell_type": "code",
      "execution_count": 1,
      "metadata": {
        "colab": {
          "base_uri": "https://localhost:8080/"
        },
        "id": "1-XdPnDiBMQ-",
        "outputId": "9aebccaa-6a03-486e-f31a-5dddb968e2ba"
      },
      "outputs": [
        {
          "output_type": "stream",
          "name": "stdout",
          "text": [
            "Requirement already satisfied: pygame in /usr/local/lib/python3.11/dist-packages (2.6.1)\n"
          ]
        }
      ],
      "source": [
        "pip install pygame\n"
      ]
    },
    {
      "cell_type": "code",
      "source": [
        "import pygame\n",
        "import random\n",
        "import sys\n",
        "\n",
        "pygame.init()\n",
        "\n",
        "# Screen setup\n",
        "WIDTH, HEIGHT = 400, 600\n",
        "SCREEN = pygame.display.set_mode((WIDTH, HEIGHT))\n",
        "pygame.display.set_caption(\"Flappy Bird Clone\")\n",
        "\n",
        "# Game variables\n",
        "gravity = 0.25\n",
        "bird_movement = 0\n",
        "score = 0\n",
        "game_active = True\n",
        "\n",
        "# Load bird\n",
        "bird = pygame.Rect(50, HEIGHT // 2, 30, 30)\n",
        "\n",
        "# Pipes\n",
        "pipe_list = []\n",
        "pipe_height = [200, 300, 400]\n",
        "SPAWNPIPE = pygame.USEREVENT\n",
        "pygame.time.set_timer(SPAWNPIPE, 1500)\n",
        "\n",
        "# Fonts\n",
        "font = pygame.font.SysFont('Arial', 40)\n",
        "\n",
        "clock = pygame.time.Clock()\n",
        "\n",
        "def draw_bird():\n",
        "    pygame.draw.ellipse(SCREEN, (255, 255, 0), bird)\n",
        "\n",
        "def create_pipe():\n",
        "    height = random.choice(pipe_height)\n",
        "    bottom_pipe = pygame.Rect(WIDTH, height, 60, HEIGHT - height)\n",
        "    top_pipe = pygame.Rect(WIDTH, 0, 60, height - 150)\n",
        "    return bottom_pipe, top_pipe\n",
        "\n",
        "def move_pipes(pipes):\n",
        "    for pipe in pipes:\n",
        "        pipe.centerx -= 5\n",
        "    return [pipe for pipe in pipes if pipe.right > 0]\n",
        "\n",
        "def draw_pipes(pipes):\n",
        "    for pipe in pipes:\n",
        "        pygame.draw.rect(SCREEN, (0, 200, 0), pipe)\n",
        "\n",
        "def check_collision(pipes):\n",
        "    for pipe in pipes:\n",
        "        if bird.colliderect(pipe):\n",
        "            return False\n",
        "    if bird.top <= -50 or bird.bottom >= HEIGHT:\n",
        "        return False\n",
        "    return True\n",
        "\n",
        "def display_score(score):\n",
        "    score_surface = font.render(f\"Score: {score}\", True, (255, 255, 255))\n",
        "    SCREEN.blit(score_surface, (10, 10))\n",
        "\n",
        "# Game loop\n",
        "while True:\n",
        "    for event in pygame.event.get():\n",
        "        if event.type == pygame.QUIT:\n",
        "            pygame.quit()\n",
        "            sys.exit()\n",
        "\n",
        "        if game_active:\n",
        "            if event.type == pygame.KEYDOWN:\n",
        "                if event.key == pygame.K_SPACE:\n",
        "                    bird_movement = 0\n",
        "                    bird_movement -= 8\n",
        "\n",
        "            if event.type == SPAWNPIPE:\n",
        "                pipe_list.extend(create_pipe())\n",
        "\n",
        "        else:\n",
        "            if event.type == pygame.KEYDOWN and event.key == pygame.K_SPACE:\n",
        "                game_active = True\n",
        "                pipe_list.clear()\n",
        "                bird.center = (50, HEIGHT // 2)\n",
        "                bird_movement = 0\n",
        "                score = 0\n",
        "\n",
        "    SCREEN.fill((135, 206, 235))\n",
        "\n",
        "    if game_active:\n",
        "        bird_movement += gravity\n",
        "        bird.centery += bird_movement\n",
        "        draw_bird()\n",
        "\n",
        "        pipe_list = move_pipes(pipe_list)\n",
        "        draw_pipes(pipe_list)\n",
        "\n",
        "        game_active = check_collision(pipe_list)\n",
        "\n",
        "        score += 0.01\n",
        "        display_score(int(score))\n",
        "\n",
        "    else:\n",
        "        game_over_surface = font.render(\"Game Over! Press Space\", True, (255, 255, 255))\n",
        "        SCREEN.blit(game_over_surface, (50, HEIGHT // 2))\n",
        "\n",
        "    pygame.display.update()\n",
        "    clock.tick(60)\n"
      ],
      "metadata": {
        "id": "Y3x1-_RLBpKd",
        "outputId": "91e8af1d-8b22-4091-a909-a8d3b51c2034",
        "colab": {
          "base_uri": "https://localhost:8080/"
        }
      },
      "execution_count": null,
      "outputs": [
        {
          "output_type": "stream",
          "name": "stdout",
          "text": [
            "pygame 2.6.1 (SDL 2.28.4, Python 3.11.13)\n",
            "Hello from the pygame community. https://www.pygame.org/contribute.html\n"
          ]
        }
      ]
    }
  ]
}